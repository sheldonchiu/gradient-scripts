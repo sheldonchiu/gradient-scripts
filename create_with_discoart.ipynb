{
 "cells": [
  {
   "cell_type": "code",
   "execution_count": null,
   "metadata": {},
   "outputs": [],
   "source": [
    "\n",
    "!pip install -r requirements.txt\n"
   ]
  },
  {
   "cell_type": "code",
   "execution_count": null,
   "metadata": {},
   "outputs": [],
   "source": [
    "import os\n",
    "import os.path as osp\n",
    "import sys\n",
    "import utils\n",
    "#I don't feel like saving my work to a third-party storage, so I choose to disable this, and you don't really need this cloud backup on this setup\n",
    "os.environ['DISCOART_OPTOUT_CLOUD_BACKUP'] = \"1\"\n",
    "# you can use whatever path you want\n",
    "# /storage is a persistent storage, but the free quota is limited by your plan (5GB for Free, 15GB for Pro, 50GB for Growth)\n",
    "# os.environ['DISCOART_OUTPUT_DIR'] = '/storage/discoart'\n",
    "# Other locations are temporary storage, the storage quota is not guaranteed\n",
    "# Since we will be synchronizing our output to S3, temporary storage is actually a good choice\n",
    "os.environ['DISCOART_OUTPUT_DIR'] = '/discoart'\n",
    "# Path to the Discoart configuration file to load from\n",
    "os.environ['DISCOART_CONFIG_PATH'] = 'default.yml'\n",
    "\n",
    "# path on the S3 bucket to store the output\n",
    "os.environ['S3_REMOTE_DIR'] = ''\n",
    "os.environ['S3_BUCKET_NAME'] = 'discoart' # Must fill in\n",
    "os.environ['S3_ACCESS_KEY'] = '' # Must fill in\n",
    "os.environ['S3_SECRET_KEY'] = '' # Must fill in"
   ]
  },
  {
   "cell_type": "code",
   "execution_count": null,
   "metadata": {},
   "outputs": [],
   "source": [
    "from discoart import create, load_config, save_config\n",
    "basePath = os.environ['DISCOART_OUTPUT_DIR']\n",
    "if basePath[-1] != '/':\n",
    "    basePath += '/'\n",
    "os.environ['DISCOART_OUTPUT_DIR'] = basePath\n",
    "\n",
    "remoteDir = os.environ['S3_REMOTE_DIR']\n",
    "bucketName = os.environ['S3_BUCKET_NAME']\n",
    "config = load_config(os.environ['DISCOART_CONFIG_PATH'])\n",
    "\n",
    "observer = utils.start_watching(bucketName=bucketName, outputPath=basePath, remoteDir=remoteDir)\n",
    "da = create(**config)"
   ]
  }
 ],
 "metadata": {
  "kernelspec": {
   "display_name": "Python 3.10.4 64-bit",
   "language": "python",
   "name": "python3"
  },
  "language_info": {
   "codemirror_mode": {
    "name": "ipython",
    "version": 3
   },
   "file_extension": ".py",
   "mimetype": "text/x-python",
   "name": "python",
   "nbconvert_exporter": "python",
   "pygments_lexer": "ipython3",
   "version": "3.10.4"
  },
  "orig_nbformat": 4,
  "vscode": {
   "interpreter": {
    "hash": "3ad933181bd8a04b432d3370b9dc3b0662ad032c4dfaa4e4f1596c548f763858"
   }
  }
 },
 "nbformat": 4,
 "nbformat_minor": 2
}
