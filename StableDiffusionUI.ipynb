{
 "cells": [
  {
   "cell_type": "markdown",
   "metadata": {
    "id": "gfKvWAVnz8OB",
    "tags": []
   },
   "source": [
    "# AUTOMATIC1111's Stable Diffusion WebUI\n",
    "\n",
    "https://github.com/AUTOMATIC1111/stable-diffusion-webui\n",
    "\n",
    "Loosely based on https://colab.research.google.com/drive/1kw3egmSn-KgWsikYvOMjJkVDsPLjEMzl\n",
    "\n",
    "**Guides**\n",
    "- [Getting started on Paperspace](https://github.com/Engineer-of-Stuff/stable-diffusion-paperspace/blob/main/Docs/Paperspace%20Guide%20for%20Retards.md)\n",
    "- [Using the WebUI](https://rentry.org/voldy)\n",
    "- [Using the Inpainter](https://rentry.org/drfar)\n",
    "- [Textual Inversion](https://rentry.org/aikgx)\n",
    "- [Crowd-Sourced Prompts](https://lexica.art/)\n",
    "- [Artist Name Prompts](https://sgreens.notion.site/sgreens/4ca6f4e229e24da6845b6d49e6b08ae7?v=fdf861d1c65d456e98904fe3f3670bd3)\n",
    "- [Stable Diffusion Models](https://cyberes.github.io/stable-diffusion-models)\n",
    "- [Textual Inversion Models](https://cyberes.github.io/stable-diffusion-textual-inversion-models/)\n",
    "- [Have I Been Trained?](https://haveibeentrained.com/)"
   ]
  },
  {
   "cell_type": "markdown",
   "metadata": {
    "tags": []
   },
   "source": [
    "# Installation and Setup\n",
    "\n",
    "You must reinstall everything each time you restart the machine. If already downloaded, dependencies will be auto-updated."
   ]
  },
  {
   "cell_type": "markdown",
   "metadata": {},
   "source": [
    "**Where to store the models**\n",
    "\n",
    "`/storage/` is persistent storage shared across all machines on your account. Mounted to your machine.\n",
    "\n",
    "`/notebooks/` is storage for this notebook only. This directory has to be copied into your machine which can increase start/stop times if the directory is very large. To avoid this, put large files in `/storage/`.\n",
    "\n",
    "`/tmp/` <mark style=\"background-color:lime\">is not a persistent directory, meaning your files there will be deleted when the machine turns off.</mark>\n",
    "\n",
    "<br>\n",
    "\n",
    "<mark style=\"background-color: #ff780082\">If you are having storage issues</mark>, set `repo_storage_dir` to `/tmp/stable-diffusion`.\n",
    "\n",
    "<br><br>\n",
    "\n",
    "<mark>You must uncomment the correct section and run the block below or else the notebook won't work!</mark>\n",
    "\n",
    "Select the section you want and do `ctrl + /` to uncomment.\n",
    "\n",
    "Make sure there isn't a space in front of any variable. Don't put a trailing slash on directory paths. If you change any settings here, rerun this cell."
   ]
  },
  {
   "cell_type": "code",
   "execution_count": null,
   "metadata": {
    "execution": {
     "iopub.execute_input": "2022-11-14T13:05:50.077158Z",
     "iopub.status.busy": "2022-11-14T13:05:50.076448Z",
     "iopub.status.idle": "2022-11-14T13:05:50.090686Z",
     "shell.execute_reply": "2022-11-14T13:05:50.090042Z",
     "shell.execute_reply.started": "2022-11-14T13:05:50.077086Z"
    }
   },
   "outputs": [],
   "source": [
    "import os\n",
    "# Free tier\n",
    "# symlink_to_notebooks = True                          # Enables the creation of symlinks back to /notebooks/\n",
    "# model_storage_dir = '/tmp/stable-diffusion/models'   # Where the models will be downloaded to.\n",
    "# repo_storage_dir = '/notebooks'                      # Where the repository will be downloaded to.\n",
    "\n",
    "# Paid Tier\n",
    "symlink_to_notebooks = False\n",
    "model_storage_dir = '/models'\n",
    "repo_storage_dir = '/code'\n",
    "\n",
    "\n",
    "activate_s3 = False\n",
    "remoteDir = ''\n",
    "bucketName = '' # Must fill in\n",
    "basePath = '/notebooks/outputs/'\n",
    "storageQuota = 10000 * 0.9  # 90% of 10GB\n",
    "os.environ['S3_HOST_URL'] = ''\n",
    "os.environ['S3_ACCESS_KEY'] = '' # Must fill in\n",
    "os.environ['S3_SECRET_KEY'] = '' # Must fill in\n",
    "os.environ['S3_REGION'] = ''\n",
    "# Other optional settings\n",
    "# You don't have to change these if you don't want to\n",
    "\n",
    "activate_xformers = False                              # Enables the xformers optimizations using pre-built wheels.\n",
    "                                                       # Setting to True will automatically set up your environment/machine for xformers. \n",
    "\n",
    "link_novelai_anime_vae = True                         # Enables the linking of animevae.pt to each of the NovelAI models.\n",
    "                                                       # Set to True if you've downloaded both the NovelAI models and hypernetworks.\n",
    "\n",
    "download_scripts = True                               # Download custom scripts? Only reason why you would leave it disabled is because it may\n",
    "                                                       # take a while to complete.\n",
    "\n",
    "activate_deepdanbooru = True                          # Enable and install DeepDanbooru -> https://github.com/KichangKim/DeepDanbooru\n",
    "\n",
    "activate_medvram = False                                # Enable medvram option.\n",
    "                                                       # These are model optimizations which will reduce VRAM usage at the expense of some speed.\n",
    "                                                       # Set to False if you have a lot of VRAM.\n",
    "\n",
    "disable_pickle_check = False                           # Disable the automatic check for unexpected data in model files.\n",
    "                                                       # Leave this set to False unless you have a reason to disable the check.\n",
    "\n",
    "gradio_port = False                                    # Launch Gradio on a specific port. Set to False to let Gradio choose a port.\n",
    "                                                       # This disables online Gradio app mode and you will only be able to access it on your local network.\n",
    "\n",
    "gradio_auth = False                                    # Enable gradio_auth and insecure-extension-access option.\n",
    "                                                       # Set to \"me:password\" to let Gradio auth.\n",
    "\n",
    "search_paperspace_datasets = True                      # Enable searching for checkpoints in /datasets to link to the webui\n",
    "\n",
    "ui_theme = None                                      # Set the WEB UI theme. Values can be None (default) or 'dark'.\n",
    "\n",
    "# ===============================================================\n",
    "# Save variables to Jupiter's temp storage so we can access it even if the kernel restarts.\n",
    "%store symlink_to_notebooks model_storage_dir repo_storage_dir activate_xformers link_novelai_anime_vae download_scripts activate_deepdanbooru activate_medvram disable_pickle_check gradio_port gradio_auth search_paperspace_datasets ui_theme"
   ]
  },
  {
   "cell_type": "markdown",
   "metadata": {},
   "source": [
    "## Link the models directory\n",
    "\n",
    "Create symlinks. The file will be stored in the models storage directory and linked to where the WebUI expects the files to be."
   ]
  },
  {
   "cell_type": "code",
   "execution_count": null,
   "metadata": {
    "execution": {
     "iopub.execute_input": "2022-11-14T13:08:44.135407Z",
     "iopub.status.busy": "2022-11-14T13:08:44.134850Z",
     "iopub.status.idle": "2022-11-14T13:08:45.406777Z",
     "shell.execute_reply": "2022-11-14T13:08:45.405987Z",
     "shell.execute_reply.started": "2022-11-14T13:08:44.135344Z"
    }
   },
   "outputs": [],
   "source": [
    "%store -r model_storage_dir repo_storage_dir link_novelai_anime_vae search_paperspace_datasets\n",
    "import os\n",
    "import glob\n",
    "import subprocess\n",
    "\n",
    "def delete_broken_symlinks(dir):\n",
    "    deleted = False\n",
    "    for file in os.listdir(dir):\n",
    "        path = f'{dir}/{file}'\n",
    "        if os.path.islink(path) and not os.path.exists(os.readlink(path)):\n",
    "            print(f'Symlink broken, removing: {file}')\n",
    "            os.unlink(path)\n",
    "            deleted = True\n",
    "    if deleted:\n",
    "        print('')\n",
    "    \n",
    "def symlink_models(source_dir, filetype, destination_dir):\n",
    "    # don't pass directory paths with trailing slash\n",
    "    if not os.path.isdir(source_dir):\n",
    "        print('Not a directory:', source_dir)\n",
    "        return\n",
    "    for file in os.listdir(source_dir):\n",
    "        if file.endswith(filetype):\n",
    "            path = f'{destination_dir}/{file}'\n",
    "            if not os.path.exists(path):\n",
    "                print(f'New model: {file}')\n",
    "                !ln -s \"{source_dir}/{file}\" \"{destination_dir}/{file}\"\n",
    "            !ls -la --block-size=GB \"{destination_dir}/{file}\"\n",
    "\n",
    "# Check for broken symlinks and remove them\n",
    "delete_broken_symlinks(f'{repo_storage_dir}/stable-diffusion-webui/models/Stable-diffusion')\n",
    "delete_broken_symlinks(f'{repo_storage_dir}/stable-diffusion-webui/models/hypernetworks')\n",
    "\n",
    "# Link models\n",
    "symlink_models(model_storage_dir, 'ckpt', f'{repo_storage_dir}/stable-diffusion-webui/models/Stable-diffusion')\n",
    "\n",
    "# Link models one level recursive\n",
    "# You can organize your models in your model storage dir into sub-folders.\n",
    "for file in os.listdir(model_storage_dir):\n",
    "    if os.path.isdir(os.path.join(model_storage_dir, file)) and file != 'hypernetworks':\n",
    "        symlink_models(os.path.join(model_storage_dir, file), 'ckpt', f'{repo_storage_dir}/stable-diffusion-webui/models/Stable-diffusion')\n",
    "\n",
    "# Link config yaml files\n",
    "symlink_models(model_storage_dir, 'yaml', f'{repo_storage_dir}/stable-diffusion-webui/models/Stable-diffusion')\n",
    "\n",
    "# Link hypernetworks\n",
    "symlink_models(f'{model_storage_dir}/hypernetworks', 'pt', f'{repo_storage_dir}/stable-diffusion-webui/models/hypernetworks')\n",
    "\n",
    "# Link the NovelAI files for each of the NovelAI models\n",
    "os.chdir(f'{model_storage_dir}')\n",
    "for model in glob.glob('novelai-*.ckpt'):\n",
    "    yaml = model.replace('.ckpt', '.yaml')\n",
    "    if os.path.exists(yaml) and not os.path.exists(f'{repo_storage_dir}/stable-diffusion-webui/models/Stable-diffusion/{yaml}'):        \n",
    "        print(f'New NovelAI model config: {yaml}')\n",
    "        !ln -s \"{model_storage_dir}/{yaml}\" \"{repo_storage_dir}/stable-diffusion-webui/models/Stable-diffusion/{yaml}\"\n",
    "    !ls -la --block-size=GB \"{repo_storage_dir}/stable-diffusion-webui/models/Stable-diffusion/{yaml}\"\n",
    "\n",
    "if link_novelai_anime_vae:\n",
    "    for model in glob.glob('novelai-*.ckpt'):\n",
    "        if os.path.exists(f'{model_storage_dir}/hypernetworks/animevae.pt'):\n",
    "            vae = model.replace('.ckpt', '.vae.pt')\n",
    "            if not os.path.exists(f'{repo_storage_dir}/stable-diffusion-webui/models/Stable-diffusion/{vae}'):\n",
    "                print(f'Linking NovelAI {vae} and {model}')\n",
    "                !ln -s \"{model_storage_dir}/hypernetworks/animevae.pt\" \"{repo_storage_dir}/stable-diffusion-webui/models/Stable-diffusion/{vae}\"\n",
    "            !ls -la --block-size=GB \"{repo_storage_dir}/stable-diffusion-webui/models/Stable-diffusion/{vae}\"\n",
    "        else:\n",
    "            print(f'{model_storage_dir}/hypernetworks/animevae.pt NOT FOUND')\n",
    "            \n",
    "\n",
    "if search_paperspace_datasets:\n",
    "    print('Searching /datasets')\n",
    "    # Have to use subprocess for this\n",
    "    s = subprocess.getoutput(f'find /datasets -name \"*.ckpt\" -print -exec ln -s \"{{}}\" \"{repo_storage_dir}/stable-diffusion-webui/models/Stable-diffusion/\" \\;')\n",
    "    print(s)"
   ]
  },
  {
   "cell_type": "markdown",
   "metadata": {
    "id": "xt8lbdmC04ox"
   },
   "source": [
    "# Launch the WebUI"
   ]
  },
  {
   "cell_type": "markdown",
   "metadata": {
    "tags": []
   },
   "source": [
    "Run this block to launch the WebUI. You will get a link to nnn.gradio.app, that's your WebUI. Follow it.\n",
    "\n",
    "See [shared.py](https://github.com/AUTOMATIC1111/stable-diffusion-webui/blob/master/modules/shared.py#L22) to view the code for the launch args. There's a lot of good info in there about exactly what the args do. If you aren't a programmer, [here's the wiki](https://github.com/AUTOMATIC1111/stable-diffusion-webui/wiki/Command-Line-Arguments-and-Settings).\n",
    "\n",
    "#### Troubleshooting\n",
    "- If you have any issues, try restarting the kernel.\n",
    "- `EOFError: Ran out of input` probably means you ran out of storage space and the model `.ckpt` file wasn't downloaded completely. Try cleaning up your files. There are some helpful scripts in the Tools section below.\n",
    "- `The file may be malicious, so the program is not going to read it` means the program encountered unexpected data in the model file (the technical term is \"pickle\"). Merging models can cause this. You can disable this feature by setting `disable_pickle_check` to True in the settings block.\n",
    "- Try updating your notebook using the block in the Tools section below.\n",
    "- If you're still having issues, delete `stable-diffusion-webui` and reinstall."
   ]
  },
  {
   "cell_type": "code",
   "execution_count": null,
   "metadata": {
    "execution": {
     "iopub.execute_input": "2022-11-14T13:08:51.480542Z",
     "iopub.status.busy": "2022-11-14T13:08:51.479665Z"
    },
    "id": "R-xAdMA5wxXd",
    "scrolled": true,
    "tags": []
   },
   "outputs": [],
   "source": [
    "%store -r model_storage_dir repo_storage_dir activate_xformers activate_deepdanbooru activate_medvram disable_pickle_check gradio_port gradio_auth ui_theme\n",
    "%cd \"{repo_storage_dir}/stable-diffusion-webui\"\n",
    "\n",
    "import utils\n",
    "# Enable optional args automatically based on settings\n",
    "x_arg = '--xformers' if activate_xformers else ''\n",
    "dd_arg = '--deepdanbooru' if activate_deepdanbooru else ''\n",
    "mvram_arg = '--medvram' if activate_medvram else ''\n",
    "pickled = '--disable-safe-unpickle' if disable_pickle_check else ''\n",
    "port = f'--port {gradio_port}' if gradio_port else '--share'\n",
    "auth = f'--gradio-auth {gradio_auth} --enable-insecure-extension-access' if gradio_auth else ''\n",
    "theme = f'--theme {ui_theme}' if ui_theme else ''\n",
    "observer = utils.start_watching(bucketName=bucketName, outputPath=basePath, remoteDir=remoteDir, bucketQuota=storageQuota) if activate_s3 else ''\n",
    "\n",
    "# Launch args go below:\n",
    "!python webui.py {x_arg} {dd_arg} {mvram_arg} {pickled} {port} {auth} {theme} --gradio-debug"
   ]
  }
 ],
 "metadata": {
  "accelerator": "GPU",
  "colab": {
   "collapsed_sections": [],
   "private_outputs": true,
   "provenance": []
  },
  "gpuClass": "standard",
  "kernelspec": {
   "display_name": "Python 3.10.4 64-bit",
   "language": "python",
   "name": "python3"
  },
  "language_info": {
   "codemirror_mode": {
    "name": "ipython",
    "version": 3
   },
   "file_extension": ".py",
   "mimetype": "text/x-python",
   "name": "python",
   "nbconvert_exporter": "python",
   "pygments_lexer": "ipython3",
   "version": "3.10.4"
  },
  "vscode": {
   "interpreter": {
    "hash": "3ad933181bd8a04b432d3370b9dc3b0662ad032c4dfaa4e4f1596c548f763858"
   }
  }
 },
 "nbformat": 4,
 "nbformat_minor": 4
}
